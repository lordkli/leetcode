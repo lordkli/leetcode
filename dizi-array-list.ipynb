{
 "cells": [
  {
   "cell_type": "code",
   "execution_count": 3,
   "id": "72acc9f9-9ffd-4cbf-9586-0e7288c6737a",
   "metadata": {},
   "outputs": [],
   "source": [
    "# 217. Contains Duplicte\n",
    "\n",
    "def containsDuplicate(nums):\n",
    "    return len(nums) != len(set(nums))"
   ]
  },
  {
   "cell_type": "code",
   "execution_count": 4,
   "id": "5e23e72b-23b2-4e1b-8b53-cb010aba542e",
   "metadata": {},
   "outputs": [
    {
     "name": "stdout",
     "output_type": "stream",
     "text": [
      "True\n"
     ]
    }
   ],
   "source": [
    "nums = [1,2,3,1]\n",
    "print(containsDuplicate(nums))"
   ]
  },
  {
   "cell_type": "code",
   "execution_count": 6,
   "id": "37267752",
   "metadata": {},
   "outputs": [
    {
     "name": "stdout",
     "output_type": "stream",
     "text": [
      "False\n"
     ]
    }
   ],
   "source": [
    "nums = [1,2,3,4]\n",
    "print(containsDuplicate(nums))"
   ]
  },
  {
   "cell_type": "code",
   "execution_count": 6,
   "id": "aa7d668f",
   "metadata": {},
   "outputs": [
    {
     "data": {
      "text/plain": [
       "4"
      ]
     },
     "execution_count": 6,
     "metadata": {},
     "output_type": "execute_result"
    }
   ],
   "source": [
    "# 136. Single Number\n",
    "# Given a non-empty array of integers nums, every element appears twice except for one. Find that single one.\n",
    "\n",
    "# Input: nums = [2,2,1]\n",
    "# Output: 1\n",
    "\n",
    "# Input: nums = [4,1,2,1,2]\n",
    "# Output: 4\n",
    "\n",
    "# def singleNumber(nums):\n",
    "#     for i in range(len(nums)):\n",
    "#         for j in range(i + 1, len(nums))\n",
    "#             if nums[i] == nums[j]:\n",
    "                \n",
    "\n",
    "def singleNumber(nums):\n",
    "    unique_dict = {x: 0 for x in set(nums)}\n",
    "    for i in nums:\n",
    "        unique_dict[i] += 1\n",
    "    \n",
    "    # unique_items = [k for k, v in unique_dict.items() if v == 1]\n",
    "    unique_key = next(k for k, v in unique_dict.items() if v == 1)\n",
    "    return unique_key\n",
    "\n",
    "nums = [4,1,2,1,2]\n",
    "singleNumber(nums)"
   ]
  },
  {
   "cell_type": "code",
   "execution_count": null,
   "id": "07c07d85",
   "metadata": {},
   "outputs": [],
   "source": []
  },
  {
   "cell_type": "code",
   "execution_count": 13,
   "id": "90bafca2",
   "metadata": {},
   "outputs": [
    {
     "name": "stdout",
     "output_type": "stream",
     "text": [
      "{1: 5, 2: 4}\n",
      "1\n",
      "1\n"
     ]
    }
   ],
   "source": [
    "# 169. Majority Element\n",
    "# Given an array nums of size n, return the majority element.\n",
    "\n",
    "# The majority element is the element that appears more than ⌊n / 2⌋ times.\n",
    "# You may assume that the majority element always exists in the array.\n",
    "# Example 1:\n",
    "# Input: nums = [3,2,3]\n",
    "# Output: 3\n",
    "\n",
    "# Example 2:\n",
    "# Input: nums = [2,2,1,1,1,2,2]\n",
    "# Output: 2\n",
    "\n",
    "# 1) dict le yapilabilir\n",
    "\n",
    "nums = [2,2,1,1,1,2,2,1,1]\n",
    "unique_dict = {x: 0 for x in set(nums)}\n",
    "\n",
    "for i in nums:\n",
    "    unique_dict[i] += 1\n",
    "\n",
    "# max_key = max(unique_dict, key=unique_dict.get)\n",
    "max_key = max(unique_dict, key= lambda k: unique_dict[k])\n",
    "\n",
    "\n",
    "print(unique_dict)\n",
    "print(max_key)\n",
    "\n",
    "\n",
    "# 2) zaten biri en az yarisi kadar fazla\n",
    "\n",
    "def boyerMoore(nums):\n",
    "    result = 0\n",
    "    count = 0\n",
    "\n",
    "    for num in nums:\n",
    "        if count == 0:\n",
    "            result = num\n",
    "        \n",
    "        count += 1 if num == result else -1\n",
    "        # else:\n",
    "        #     if result == num:\n",
    "        #         count += 1\n",
    "        #     else:\n",
    "        #         count -= 1\n",
    "    return result\n",
    "\n",
    "print(boyerMoore(nums))"
   ]
  },
  {
   "cell_type": "code",
   "execution_count": null,
   "id": "e94a87ae",
   "metadata": {},
   "outputs": [],
   "source": []
  },
  {
   "cell_type": "code",
   "execution_count": 7,
   "id": "9ac5e71b",
   "metadata": {},
   "outputs": [
    {
     "data": {
      "text/plain": [
       "[0, 1]"
      ]
     },
     "execution_count": 7,
     "metadata": {},
     "output_type": "execute_result"
    }
   ],
   "source": [
    "# 1. Two Sum\n",
    "# Given an array of integers nums and an integer target, return indices of the two numbers such that they add up to target.\n",
    "# You may assume that each input would have exactly one solution, and you may not use the same element twice.\n",
    "# You can return the answer in any order.\n",
    "\n",
    "# Example 1:\n",
    "# Input: nums = [2,7,11,15], target = 9\n",
    "# Output: [0,1]\n",
    "# Explanation: Because nums[0] + nums[1] == 9, we return [0, 1].\n",
    "\n",
    "# 1. Cozum O(n^2): for for\n",
    "# def twoSum(nums: list[int], target: int) -> list[int]:\n",
    "#     for i in range(len(nums)):\n",
    "#         for j in range(i+1, len(nums)):\n",
    "#             if nums[i] + nums[j] == target:\n",
    "#                 return [i, j]\n",
    "#     return []\n",
    "\n",
    "# 2. Cozum: O(n) hafizada O(n)\n",
    "def twoSum(nums: list[int], target: int) -> list[int]:\n",
    "    kalanDict = {}\n",
    "    for i in nums:\n",
    "        kalanDict[i] = (target - i)\n",
    "\n",
    "    for k, v in kalanDict.items():\n",
    "        if v in nums:\n",
    "            index1 = nums.index(k)\n",
    "            index2 = nums.index(v)\n",
    "            if index1 != index2:\n",
    "                return [index1, index2]\n",
    "    \n",
    "    return []\n",
    "\n",
    "# nums = [2,7,11,15]\n",
    "# target = 9\n",
    "\n",
    "# nums = [3,2,4]\n",
    "# target = 6\n",
    "\n",
    "#! BU SAGLAMADI\n",
    "nums = [3,3]\n",
    "target = 6\n",
    "\n",
    "# 3.Cozum\n",
    "def twoSum(nums: list[int], target: int) -> list[int]:\n",
    "    seen = {}\n",
    "    for i, num in enumerate(nums):\n",
    "        complement = target - num\n",
    "        if complement in seen:\n",
    "            return [seen[complement], i]\n",
    "        seen[num] = i\n",
    "\n",
    "twoSum(nums, target)"
   ]
  },
  {
   "cell_type": "code",
   "execution_count": null,
   "id": "19eb2214",
   "metadata": {},
   "outputs": [],
   "source": []
  },
  {
   "cell_type": "markdown",
   "id": "39a5f160",
   "metadata": {},
   "source": []
  },
  {
   "cell_type": "code",
   "execution_count": 13,
   "id": "4e398005",
   "metadata": {},
   "outputs": [
    {
     "data": {
      "text/plain": [
       "2"
      ]
     },
     "execution_count": 13,
     "metadata": {},
     "output_type": "execute_result"
    }
   ],
   "source": [
    "# 268. Missing Number\n",
    "# Given an array nums containing n distinct numbers in the range [0, n],\n",
    "# return the only number in the range that is missing from the array.\n",
    "\n",
    "# Cozum 1 \n",
    "def missingNumber(nums: list[int]) -> int:\n",
    "    nums.sort()\n",
    "    for i in range(len(nums) - 1):\n",
    "        if nums[i+1] - nums[i] != 1:\n",
    "            return nums[i] + 1\n",
    "    # eksik sayı ya en başta 0 ya da en sonda n\n",
    "    if nums[0] != 0:\n",
    "        return 0\n",
    "    return nums[-1] + 1\n",
    "\n",
    "\n",
    "# Cozum 2:\n",
    "def missingNumber(nums: list[int]) -> int:\n",
    "    n = len(nums)\n",
    "    summ = n * (n+1) // 2\n",
    "    return summ - sum(nums)\n",
    "\n",
    "\n",
    "# Cozum 3\n",
    "# 0'dan n’e kadar olan tüm sayıları indexlerle birlikte XOR’larız.\n",
    "# Eksik olan sayı hariç her sayı iki kez XOR’lanır (bir index’te, bir value olarak).\n",
    "# İki kez XOR’lanan her şey 0’a gider → tek kalan, eksik sayıdır.\n",
    "\n",
    "def missingNumber(nums: list[int]) -> int:\n",
    "    missing = len(nums)\n",
    "    for i, num in enumerate(nums):\n",
    "        missing ^= i ^ num\n",
    "    return missing\n",
    "\n",
    "nums = [3,0,1]\n",
    "missingNumber(nums)"
   ]
  },
  {
   "cell_type": "code",
   "execution_count": null,
   "id": "dd6b7ded",
   "metadata": {},
   "outputs": [],
   "source": []
  },
  {
   "cell_type": "code",
   "execution_count": 35,
   "id": "9d9ef4ff",
   "metadata": {},
   "outputs": [
    {
     "data": {
      "text/plain": [
       "3"
      ]
     },
     "execution_count": 35,
     "metadata": {},
     "output_type": "execute_result"
    }
   ],
   "source": [
    "# 485. Max Consecutive Ones\n",
    "# Given a binary array nums, return the maximum number of consecutive 1's in the array.\n",
    "\n",
    "# Input: nums = [1,1,0,1,1,1]\n",
    "# Output: 3\n",
    "# Explanation: The first two digits or the last three digits are consecutive 1s. The maximum number of consecutive 1s is 3.\n",
    "\n",
    "# KOMPLEX DUSUNDUM: MEGERSE SADECE 1 LERI SAYACAKMISIZ\n",
    "# def findMaxConsecutiveOnes(nums: list[int]) -> int:\n",
    "#     if len(nums) == 1:\n",
    "#         if nums[0] == 1:\n",
    "#             return 1\n",
    "#         else:\n",
    "#             return 0\n",
    "#     maxCounter = 0\n",
    "#     counter = 1\n",
    "#     for i in range(len(nums) - 1):\n",
    "#         if nums[i+1] == nums[i]:\n",
    "#             print(f'+1')\n",
    "#             counter += 1\n",
    "#         else:\n",
    "#             maxCounter = max(counter, maxCounter)\n",
    "#             print('SIFIRLA') \n",
    "#             counter = 1\n",
    "#         print(f'Tur: counter= {counter} maxCounter= {maxCounter}')\n",
    "#         print(maxCounter)\n",
    "# \n",
    "#   return max(counter, maxCounter)\n",
    "\n",
    "def findMaxConsecutiveOnes(nums: list[int]) -> int:\n",
    "    maxCounter = 0\n",
    "    counter = 0\n",
    "    for i in nums:\n",
    "        if i==0:\n",
    "            maxCounter = max(counter, maxCounter)\n",
    "            counter = 0\n",
    "        else:\n",
    "            counter += 1\n",
    "    return max(counter, maxCounter)\n",
    "\n",
    "# nums = [1,0,1,1,0,1]\n",
    "nums = [1,1,0,1,1,1]\n",
    "findMaxConsecutiveOnes(nums)"
   ]
  },
  {
   "cell_type": "code",
   "execution_count": null,
   "id": "bc47a815",
   "metadata": {},
   "outputs": [],
   "source": []
  },
  {
   "cell_type": "code",
   "execution_count": 45,
   "id": "6503cf23",
   "metadata": {},
   "outputs": [
    {
     "data": {
      "text/plain": [
       "[1, 3, 12, 0, 0]"
      ]
     },
     "execution_count": 45,
     "metadata": {},
     "output_type": "execute_result"
    }
   ],
   "source": [
    "# 283. Move Zeroes\n",
    "# Given an integer array nums, move all 0's to the end of it while maintaining the relative order of the non-zero elements.\n",
    "\n",
    "# Input: nums = [0,1,0,3,12]\n",
    "# Output: [1,3,12,0,0]\n",
    "\n",
    "def moveZeroes(nums: list[int]) -> None:\n",
    "        \"\"\"\n",
    "        Do not return anything, modify nums in-place instead.\n",
    "        \"\"\"\n",
    "        index = 0\n",
    "        for i, num in enumerate(nums):\n",
    "            if nums[i] != 0:\n",
    "                nums[index] = num\n",
    "                if index != i:\n",
    "                    nums[i] = 0\n",
    "                index += 1\n",
    "            else:\n",
    "                pass\n",
    "        return nums\n",
    "\n",
    "\n",
    "def moveZeroes(nums: list[int]) -> None:\n",
    "    k = 0\n",
    "\n",
    "    for i in range(len(nums)):\n",
    "        if nums[i] != 0:\n",
    "            nums[i],nums[k] = nums[k],nums[i]\n",
    "            k += 1\n",
    "\n",
    "    return nums\n",
    "\n",
    "\n",
    "#! İki pointer tekniği.\n",
    "def moveZeroes(nums: list[int]) -> None:\n",
    "    left = 0\n",
    "    \n",
    "    for right in range(len(nums)):\n",
    "        if nums[right] != 0:\n",
    "            nums[right], nums[left] = nums[left], nums[right]\n",
    "            left += 1\n",
    "    return nums\n",
    "\n",
    "\n",
    "nums = [0,1,0,3,12]\n",
    "# nums = [1]\n",
    "moveZeroes(nums)"
   ]
  },
  {
   "cell_type": "code",
   "execution_count": null,
   "id": "31132edd",
   "metadata": {},
   "outputs": [],
   "source": []
  },
  {
   "cell_type": "code",
   "execution_count": 63,
   "id": "d4c0088b",
   "metadata": {},
   "outputs": [
    {
     "data": {
      "text/plain": [
       "6"
      ]
     },
     "execution_count": 63,
     "metadata": {},
     "output_type": "execute_result"
    }
   ],
   "source": [
    "# 53. Maximum Subarray\n",
    "# Given an integer array nums, find the subarray with the largest sum, and return its sum.\n",
    "\n",
    "# Input: nums = [-2,1,-3,4,-1,2,1,-5,4]\n",
    "# Output: 6\n",
    "# Explanation: The subarray [4,-1,2,1] has the largest sum 6.\n",
    "\n",
    "# Cozum 1:\n",
    "def maxSubArray(nums: list[int]) -> int:\n",
    "    maxSum = nums[0]\n",
    "    currentSum = nums[0]\n",
    "    for i in range(1, len(nums)):\n",
    "        currentSum = max(nums[i], currentSum + nums[i])\n",
    "        maxSum = max(maxSum, currentSum)\n",
    "        print(f'currentSum={currentSum}, maxSum= {maxSum}')\n",
    "    return maxSum\n",
    "\n",
    "# Cozum 2:\n",
    "def maxSubArray(nums: list[int]) -> int:\n",
    "    res = nums[0]\n",
    "    total = 0\n",
    "    \n",
    "    for n in nums:\n",
    "        if total < 0:\n",
    "            total = 0\n",
    "        \n",
    "        total += n\n",
    "        res = max(res, total)\n",
    "    \n",
    "    return res\n",
    "\n",
    "\n",
    "nums = [-2,1,-3,4,-1,2,1,-5,4]\n",
    "# nums = [-2,1]\n",
    "maxSubArray(nums)"
   ]
  },
  {
   "cell_type": "code",
   "execution_count": null,
   "id": "99e66ef2",
   "metadata": {},
   "outputs": [],
   "source": []
  },
  {
   "cell_type": "code",
   "execution_count": 7,
   "id": "27562b31",
   "metadata": {},
   "outputs": [
    {
     "name": "stdout",
     "output_type": "stream",
     "text": [
      "[0, 1, 2, 3, 4, 2, 2, 3, 3, 4]\n"
     ]
    },
    {
     "data": {
      "text/plain": [
       "5"
      ]
     },
     "execution_count": 7,
     "metadata": {},
     "output_type": "execute_result"
    }
   ],
   "source": [
    "# 26. Remove Duplicates from Sorted Array\n",
    "# Input: nums = [0,0,1,1,1,2,2,3,3,4]\n",
    "# Output: 5, nums = [0,1,2,3,4,_,_,_,_,_]\n",
    "# Explanation: Your function should return k = 5, with the first five elements of nums being 0, 1, 2, 3, and 4 respectively.\n",
    "# It does not matter what you leave beyond the returned k (hence they are underscores).\n",
    "\n",
    "#Cozum deneme 1:\n",
    "def removeDuplicates(nums: list[int]) -> int:\n",
    "    if not nums :\n",
    "        return 1\n",
    "    if len(nums) == 1:\n",
    "        return nums\n",
    "    slow = 0\n",
    "    fast = 1\n",
    "    for i in range(len(nums) - 1):\n",
    "        if nums[slow] != nums[fast]:\n",
    "            slow += 1\n",
    "            nums[slow] = nums[fast]\n",
    "        fast += 1\n",
    "    return slow + 1\n",
    "\n",
    "# Cozum iyilestirme: i ile fast ayni sayi olabilir\n",
    "def removeDuplicates(nums: list[int]) -> int:\n",
    "    if not nums :\n",
    "        return 0 # boş liste kontrolü\n",
    "    slow = 0\n",
    "    for fast in range(1,len(nums)):\n",
    "        if nums[slow] != nums[fast]:\n",
    "            slow += 1\n",
    "            nums[slow] = nums[fast]\n",
    "        fast += 1\n",
    "    print(nums)\n",
    "    return slow + 1\n",
    "nums = [0,0,1,1,1,2,2,3,3,4]\n",
    "\n",
    "removeDuplicates(nums)"
   ]
  },
  {
   "cell_type": "code",
   "execution_count": null,
   "id": "3c626873",
   "metadata": {},
   "outputs": [],
   "source": []
  },
  {
   "cell_type": "code",
   "execution_count": null,
   "id": "853e3048",
   "metadata": {},
   "outputs": [],
   "source": [
    "# MEDIUM (ORTA DUZEY SORULAR)"
   ]
  },
  {
   "cell_type": "code",
   "execution_count": null,
   "id": "22db1b1a",
   "metadata": {},
   "outputs": [
    {
     "data": {
      "text/plain": [
       "[[-100, -60, 160], [-70, -60, 130]]"
      ]
     },
     "execution_count": 50,
     "metadata": {},
     "output_type": "execute_result"
    }
   ],
   "source": [
    "# 15. 3Sum\n",
    "# ! TEKRAR KENDIN COZ\n",
    "# Given an integer array nums, return all the triplets [nums[i], nums[j], nums[k]] such that i != j, i != k, and j != k, and nums[i] + nums[j] + nums[k] == 0.\n",
    "# Notice that the solution set must not contain duplicate triplets.\n",
    "\n",
    "# Input: nums = [-1,0,1,2,-1,-4]\n",
    "# Output: [[-1,-1,2],[-1,0,1]]\n",
    "# Explanation: \n",
    "# nums[0] + nums[1] + nums[2] = (-1) + 0 + 1 = 0.\n",
    "# nums[1] + nums[2] + nums[4] = 0 + 1 + (-1) = 0.\n",
    "# nums[0] + nums[3] + nums[4] = (-1) + 2 + (-1) = 0.\n",
    "# The distinct triplets are [-1,0,1] and [-1,-1,2].\n",
    "# Notice that the order of the output and the order of the triplets does not matter.\n",
    "\n",
    "# Input: nums = [0,1,1]\n",
    "# Output: []\n",
    "# Explanation: The only possible triplet does not sum up to 0.\n",
    "\n",
    "# Input: nums = [0,0,0]\n",
    "# Output: [[0,0,0]]\n",
    "# Explanation: The only possible triplet sums up to 0.\n",
    "\n",
    "# dusunme:\n",
    "# nums = [-1,0,1,2,-1,-4]\n",
    "# nums.sort(): [-4,-1,-1,0,1,2]\n",
    "\n",
    "def threeSum(nums: list[int]) -> list[list[int]]:\n",
    "    result = []\n",
    "    nums.sort()\n",
    "    n = len(nums)\n",
    "    \n",
    "    for i in range(n-2): # en az 3 eleman olmalı\n",
    "        if i > 0 and nums[i] == nums[i-1]:\n",
    "                continue\n",
    "        if nums[i] > 0:  # artık toplam 0 olamaz\n",
    "            break\n",
    "        sabit = nums[i]\n",
    "        left = i+1\n",
    "        right = n-1\n",
    "        \n",
    "        while left < right:\n",
    "            s = nums[i] + nums[left] + nums[right]\n",
    "            if s < 0:\n",
    "                left += 1\n",
    "            elif s > 0:\n",
    "                right -= 1\n",
    "            else:\n",
    "                result.append([sabit, nums[left], nums[right]])\n",
    "                \n",
    "                # duplicate skip\n",
    "                while left < right and nums[left] == nums[left+1]:\n",
    "                    left += 1\n",
    "                while left < right and nums[right] == nums[right-1]:\n",
    "                    right -= 1\n",
    "                #! ikisini de ayni anda degistirmemizin nedeni ayni degerleri bir daha vermesini istememiz\n",
    "                left += 1\n",
    "                right -= 1\n",
    "\n",
    "    return result\n",
    "\n",
    "# nums = [-1,0,1,2,-1,-4]\n",
    "nums = [-100,-70,-60,110,120,130,160]\n",
    "threeSum(nums)"
   ]
  },
  {
   "cell_type": "code",
   "execution_count": null,
   "id": "d6cac8d0",
   "metadata": {},
   "outputs": [],
   "source": []
  },
  {
   "cell_type": "code",
   "execution_count": 91,
   "id": "9d8c1227",
   "metadata": {},
   "outputs": [
    {
     "data": {
      "text/plain": [
       "[24, 12, 8, 6]"
      ]
     },
     "execution_count": 91,
     "metadata": {},
     "output_type": "execute_result"
    }
   ],
   "source": [
    "# 238. Product of Array Except Self\n",
    "# ! Sonra tekrar dene \n",
    "#Given an integer array nums, return an array answer such that answer[i] is equal to the product of all the elements of nums except nums[i].\n",
    "# Input: nums = [1,2,3,4]\n",
    "# Output: [24,12,8,6]\n",
    "\n",
    "# Input: nums = [-1,1,0,-3,3]\n",
    "# Output: [0,0,9,0,0]\n",
    "\n",
    "# 🔹 Örnek adım adım\n",
    "# nums = [1,2,3,4]\n",
    "# Left products: [1,1,2,6]\n",
    "# left[0] = 1\n",
    "# left[1] = 1 (solunda 1 var)\n",
    "# left[2] = 1*2 = 2\n",
    "# left[3] = 123 = 6\n",
    "\n",
    "# Right products: [24,12,4,1]\n",
    "# right[3] = 1 (sağında yok)\n",
    "# right[2] = 4 (sağında 4 var)\n",
    "# right[1] = 3*4 = 12\n",
    "# right[0] = 234 = 24\n",
    "# Sonuç: [24,12,8,6]\n",
    "\n",
    "\n",
    "# nums = [1,2,3,4]\n",
    "# Left products: [1,1,2,6]\n",
    "# Right products: [24,12,4,1]\n",
    "# Sonuç: [24,12,8,6]\n",
    "\n",
    "# 1.COZUM DENEMSI: calisiyor ama cok yavas\n",
    "def productExceptSelf(nums: list[int]) -> list[int]:\n",
    "    left = [1]\n",
    "    result = []\n",
    "    n = len(nums)\n",
    "    for i in range(1,n):\n",
    "        temp1 = nums[i-1] * left[i-1]\n",
    "        left.append(temp1)\n",
    "    \n",
    "    right = [1]\n",
    "    for i in range(n-1,0,-1):\n",
    "        temp2 = nums[i] * right[0]\n",
    "        right.insert(0,temp2)\n",
    "\n",
    "    for i in range(len(nums)):\n",
    "        result.append(left[i] * right[i])\n",
    "    return result\n",
    "\n",
    "def productExceptSelf(nums: list[int]) -> list[int]:\n",
    "    result = [1]\n",
    "    n = len(nums)\n",
    "    \n",
    "    for i in range(1,n):\n",
    "        temp1 = nums[i-1] * result[i-1]\n",
    "        result.append(temp1)\n",
    "    \n",
    "    right = [1]\n",
    "    for i in range(n-1,0,-1):\n",
    "        temp2 = nums[i] * right[0]\n",
    "        right.insert(0,temp2)\n",
    "\n",
    "    for i in range(len(nums)):\n",
    "        result[i] *= right[i]\n",
    "    return result\n",
    "\n",
    "\n",
    "# COZUM 3\n",
    "def productExceptSelf(nums: list[int]) -> list[int]:\n",
    "    n = len(nums)\n",
    "    result = [1] * n\n",
    "    \n",
    "    left = 1\n",
    "    for i in range(n):\n",
    "        result[i] *= left\n",
    "        left *= nums[i]\n",
    "    \n",
    "    right = 1\n",
    "    for i in range(n-1,-1,-1):\n",
    "        result[i] *= right\n",
    "        right *= nums[i]\n",
    "    return result\n",
    "\n",
    "nums = [1,2,3,4]\n",
    "productExceptSelf(nums)"
   ]
  },
  {
   "cell_type": "code",
   "execution_count": null,
   "id": "0749a20f",
   "metadata": {},
   "outputs": [],
   "source": []
  },
  {
   "cell_type": "code",
   "execution_count": 53,
   "id": "353dd232",
   "metadata": {},
   "outputs": [
    {
     "data": {
      "text/plain": [
       "True"
      ]
     },
     "execution_count": 53,
     "metadata": {},
     "output_type": "execute_result"
    }
   ],
   "source": [
    "# 36. Valid Sudoku\n",
    "# Determine if a 9 x 9 Sudoku board is valid. Only the filled cells need to be validated according to the following rules:\n",
    "# -Each row must contain the digits 1-9 without repetition.\n",
    "# -Each column must contain the digits 1-9 without repetition.\n",
    "# -Each of the nine 3 x 3 sub-boxes of the grid must contain the digits 1-9 without repetition.\n",
    "\n",
    "# COZUM 1: Sete ekleyerek gidecegiz zaten setin icinde varsa return false\n",
    "def isValidSudoku(board: list[list[str]]) -> bool:\n",
    "    for x in range(9):\n",
    "        set_satir= set()\n",
    "        set_satir.clear()\n",
    "        for y in range(9):\n",
    "            if board[x][y] == \".\":\n",
    "                pass\n",
    "            elif board[x][y] in set_satir:\n",
    "                return False\n",
    "            else:\n",
    "                set_satir.add(board[x][y])\n",
    "        \n",
    "    for y in range(9):\n",
    "        set_sutun= set()\n",
    "        set_sutun.clear()\n",
    "        for x in range(9):\n",
    "            if board[x][y] == '.':\n",
    "                pass\n",
    "            elif board[x][y] in set_sutun:\n",
    "                return False\n",
    "            else:\n",
    "                set_sutun.add(board[x][y])\n",
    "\n",
    "\n",
    "    for r in range(9):\n",
    "        for c in range(9):\n",
    "            val = board[r][c]\n",
    "\n",
    "\n",
    "# COZUM 2: Her satir ve stun icin set olusturup direkt degeri oraya eklemek sonra onlari kontrol etmek\n",
    "def isValidSudoku(board: list[list[str]]) -> bool:\n",
    "    rows = [set() for _ in range(10)]\n",
    "    cols = [set() for _ in range(10)]\n",
    "    boxes = [set() for _ in range(10)]\n",
    "    \n",
    "    for r in range(9):\n",
    "        for c in range(9):\n",
    "            val = board[r][c]\n",
    "            if val == '.':\n",
    "                continue\n",
    "            \n",
    "            b = (r // 3) * 3 + (c // 3)\n",
    "            if val in rows[r] or val in cols[c] or val in boxes[b]:\n",
    "                return False\n",
    "            rows[r].add(val)\n",
    "            cols[c].add(val)\n",
    "            boxes[b].add(val)\n",
    "    return True\n",
    "\n",
    "\n",
    "board1 = [[\"5\",\"3\",\".\",\".\",\"7\",\".\",\".\",\".\",\".\"]\n",
    "         ,[\"6\",\".\",\".\",\"1\",\"9\",\"5\",\".\",\".\",\".\"]\n",
    "         ,[\".\",\"9\",\"8\",\".\",\".\",\".\",\".\",\"6\",\".\"]\n",
    "         ,[\"8\",\".\",\".\",\".\",\"6\",\".\",\".\",\".\",\"3\"]\n",
    "         ,[\"4\",\".\",\".\",\"8\",\".\",\"3\",\".\",\".\",\"1\"]\n",
    "         ,[\"7\",\".\",\".\",\".\",\"2\",\".\",\".\",\".\",\"6\"]\n",
    "         ,[\".\",\"6\",\".\",\".\",\".\",\".\",\"2\",\"8\",\".\"]\n",
    "         ,[\".\",\".\",\".\",\"4\",\"1\",\"9\",\".\",\".\",\"5\"]\n",
    "         ,[\".\",\".\",\".\",\".\",\"8\",\".\",\".\",\"7\",\"9\"]]\n",
    "\n",
    "board2 = [[\"5\",\"3\",\"5\",\".\",\"7\",\".\",\".\",\".\",\".\"]\n",
    "         ,[\"6\",\".\",\".\",\"1\",\"9\",\"5\",\".\",\".\",\".\"]\n",
    "         ,[\".\",\"9\",\"8\",\".\",\".\",\".\",\".\",\"6\",\".\"]\n",
    "         ,[\"8\",\".\",\".\",\".\",\"6\",\".\",\".\",\".\",\"3\"]\n",
    "         ,[\"4\",\".\",\".\",\"8\",\".\",\"3\",\".\",\".\",\"1\"]\n",
    "         ,[\"7\",\".\",\".\",\".\",\"2\",\".\",\".\",\".\",\"6\"]\n",
    "         ,[\".\",\"6\",\".\",\".\",\".\",\".\",\"2\",\"8\",\".\"]\n",
    "         ,[\".\",\".\",\".\",\"4\",\"1\",\"9\",\".\",\".\",\"5\"]\n",
    "         ,[\".\",\".\",\".\",\".\",\"8\",\".\",\".\",\"7\",\"9\"]]\n",
    "\n",
    "board3 = [[\"5\",\"3\",\".\",\".\",\"7\",\".\",\".\",\".\",\".\"]\n",
    "         ,[\"6\",\".\",\".\",\"1\",\"9\",\"5\",\".\",\".\",\".\"]\n",
    "         ,[\".\",\"9\",\"8\",\".\",\".\",\".\",\".\",\"6\",\".\"]\n",
    "         ,[\"8\",\".\",\".\",\".\",\"6\",\".\",\".\",\".\",\"3\"]\n",
    "         ,[\"4\",\".\",\".\",\"8\",\".\",\"3\",\".\",\".\",\"1\"]\n",
    "         ,[\"7\",\".\",\".\",\".\",\"2\",\".\",\".\",\".\",\"6\"]\n",
    "         ,[\".\",\"6\",\".\",\".\",\".\",\".\",\"2\",\"8\",\".\"]\n",
    "         ,[\".\",\".\",\".\",\"4\",\"1\",\"9\",\".\",\".\",\"5\"]\n",
    "         ,[\"5\",\".\",\".\",\".\",\"8\",\".\",\".\",\"7\",\"9\"]]\n",
    "\n",
    "isValidSudoku(board1)\n"
   ]
  },
  {
   "cell_type": "code",
   "execution_count": null,
   "id": "f003ef4b",
   "metadata": {},
   "outputs": [],
   "source": []
  },
  {
   "cell_type": "code",
   "execution_count": null,
   "id": "e33ad542",
   "metadata": {},
   "outputs": [
    {
     "data": {
      "text/plain": [
       "2"
      ]
     },
     "execution_count": 26,
     "metadata": {},
     "output_type": "execute_result"
    }
   ],
   "source": [
    "# 560. Subarray Sum Equals K\n",
    "# Given an array of integers nums and an integer k, return the total number of subarrays whose sum equals to k.\n",
    "# A subarray is a contiguous non-empty sequence of elements within an array.\n",
    "\n",
    "# 1) Cozum: for i for j ardisik toplami k olanlari bul O(n^2)\n",
    "def subarraySum(nums: list[int], k: int) -> int:\n",
    "    result = 0\n",
    "    n = len(nums)\n",
    "    for i in range(n):\n",
    "        curr = 0\n",
    "        for j in range(i,n):\n",
    "            curr += nums[j]\n",
    "            if curr == k:\n",
    "                result += 1\n",
    "    return result\n",
    "\n",
    "\n",
    "# COZUM 2: \n",
    "def subarraySum(nums: list[int], k: int) -> int:\n",
    "    \n",
    "\n",
    "nums = [1,1,1]\n",
    "k = 2\n",
    "subarraySum(nums, k)"
   ]
  },
  {
   "cell_type": "code",
   "execution_count": null,
   "id": "f41d08c0",
   "metadata": {},
   "outputs": [],
   "source": []
  }
 ],
 "metadata": {
  "kernelspec": {
   "display_name": "base",
   "language": "python",
   "name": "python3"
  },
  "language_info": {
   "codemirror_mode": {
    "name": "ipython",
    "version": 3
   },
   "file_extension": ".py",
   "mimetype": "text/x-python",
   "name": "python",
   "nbconvert_exporter": "python",
   "pygments_lexer": "ipython3",
   "version": "3.13.5"
  }
 },
 "nbformat": 4,
 "nbformat_minor": 5
}
