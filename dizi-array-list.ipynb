{
 "cells": [
  {
   "cell_type": "code",
   "execution_count": 3,
   "id": "72acc9f9-9ffd-4cbf-9586-0e7288c6737a",
   "metadata": {},
   "outputs": [],
   "source": [
    "# 217. Contains Duplicte\n",
    "\n",
    "def containsDuplicate(nums):\n",
    "    return len(nums) != len(set(nums))"
   ]
  },
  {
   "cell_type": "code",
   "execution_count": 4,
   "id": "5e23e72b-23b2-4e1b-8b53-cb010aba542e",
   "metadata": {},
   "outputs": [
    {
     "name": "stdout",
     "output_type": "stream",
     "text": [
      "True\n"
     ]
    }
   ],
   "source": [
    "nums = [1,2,3,1]\n",
    "print(containsDuplicate(nums))"
   ]
  },
  {
   "cell_type": "code",
   "execution_count": 6,
   "id": "37267752",
   "metadata": {},
   "outputs": [
    {
     "name": "stdout",
     "output_type": "stream",
     "text": [
      "False\n"
     ]
    }
   ],
   "source": [
    "nums = [1,2,3,4]\n",
    "print(containsDuplicate(nums))"
   ]
  },
  {
   "cell_type": "code",
   "execution_count": 6,
   "id": "aa7d668f",
   "metadata": {},
   "outputs": [
    {
     "data": {
      "text/plain": [
       "4"
      ]
     },
     "execution_count": 6,
     "metadata": {},
     "output_type": "execute_result"
    }
   ],
   "source": [
    "# 136. Single Number\n",
    "# Given a non-empty array of integers nums, every element appears twice except for one. Find that single one.\n",
    "\n",
    "# Input: nums = [2,2,1]\n",
    "# Output: 1\n",
    "\n",
    "# Input: nums = [4,1,2,1,2]\n",
    "# Output: 4\n",
    "\n",
    "# def singleNumber(nums):\n",
    "#     for i in range(len(nums)):\n",
    "#         for j in range(i + 1, len(nums))\n",
    "#             if nums[i] == nums[j]:\n",
    "                \n",
    "\n",
    "def singleNumber(nums):\n",
    "    unique_dict = {x: 0 for x in set(nums)}\n",
    "    for i in nums:\n",
    "        unique_dict[i] += 1\n",
    "    \n",
    "    # unique_items = [k for k, v in unique_dict.items() if v == 1]\n",
    "    unique_key = next(k for k, v in unique_dict.items() if v == 1)\n",
    "    return unique_key\n",
    "\n",
    "nums = [4,1,2,1,2]\n",
    "singleNumber(nums)"
   ]
  },
  {
   "cell_type": "code",
   "execution_count": null,
   "id": "07c07d85",
   "metadata": {},
   "outputs": [],
   "source": []
  },
  {
   "cell_type": "code",
   "execution_count": 13,
   "id": "90bafca2",
   "metadata": {},
   "outputs": [
    {
     "name": "stdout",
     "output_type": "stream",
     "text": [
      "{1: 5, 2: 4}\n",
      "1\n",
      "1\n"
     ]
    }
   ],
   "source": [
    "# 169. Majority Element\n",
    "# Given an array nums of size n, return the majority element.\n",
    "\n",
    "# The majority element is the element that appears more than ⌊n / 2⌋ times.\n",
    "# You may assume that the majority element always exists in the array.\n",
    "# Example 1:\n",
    "# Input: nums = [3,2,3]\n",
    "# Output: 3\n",
    "\n",
    "# Example 2:\n",
    "# Input: nums = [2,2,1,1,1,2,2]\n",
    "# Output: 2\n",
    "\n",
    "# 1) dict le yapilabilir\n",
    "\n",
    "nums = [2,2,1,1,1,2,2,1,1]\n",
    "unique_dict = {x: 0 for x in set(nums)}\n",
    "\n",
    "for i in nums:\n",
    "    unique_dict[i] += 1\n",
    "\n",
    "# max_key = max(unique_dict, key=unique_dict.get)\n",
    "max_key = max(unique_dict, key= lambda k: unique_dict[k])\n",
    "\n",
    "\n",
    "print(unique_dict)\n",
    "print(max_key)\n",
    "\n",
    "\n",
    "# 2) zaten biri en az yarisi kadar fazla\n",
    "\n",
    "def boyerMoore(nums):\n",
    "    result = 0\n",
    "    count = 0\n",
    "\n",
    "    for num in nums:\n",
    "        if count == 0:\n",
    "            result = num\n",
    "        \n",
    "        count += 1 if num == result else -1\n",
    "        # else:\n",
    "        #     if result == num:\n",
    "        #         count += 1\n",
    "        #     else:\n",
    "        #         count -= 1\n",
    "    return result\n",
    "\n",
    "print(boyerMoore(nums))"
   ]
  },
  {
   "cell_type": "code",
   "execution_count": null,
   "id": "e94a87ae",
   "metadata": {},
   "outputs": [],
   "source": []
  },
  {
   "cell_type": "code",
   "execution_count": 7,
   "id": "9ac5e71b",
   "metadata": {},
   "outputs": [
    {
     "data": {
      "text/plain": [
       "[0, 1]"
      ]
     },
     "execution_count": 7,
     "metadata": {},
     "output_type": "execute_result"
    }
   ],
   "source": [
    "# 1. Two Sum\n",
    "# Given an array of integers nums and an integer target, return indices of the two numbers such that they add up to target.\n",
    "# You may assume that each input would have exactly one solution, and you may not use the same element twice.\n",
    "# You can return the answer in any order.\n",
    "\n",
    "# Example 1:\n",
    "# Input: nums = [2,7,11,15], target = 9\n",
    "# Output: [0,1]\n",
    "# Explanation: Because nums[0] + nums[1] == 9, we return [0, 1].\n",
    "\n",
    "# 1. Cozum O(n^2): for for\n",
    "# def twoSum(nums: list[int], target: int) -> list[int]:\n",
    "#     for i in range(len(nums)):\n",
    "#         for j in range(i+1, len(nums)):\n",
    "#             if nums[i] + nums[j] == target:\n",
    "#                 return [i, j]\n",
    "#     return []\n",
    "\n",
    "# 2. Cozum: O(n) hafizada O(n)\n",
    "def twoSum(nums: list[int], target: int) -> list[int]:\n",
    "    kalanDict = {}\n",
    "    for i in nums:\n",
    "        kalanDict[i] = (target - i)\n",
    "\n",
    "    for k, v in kalanDict.items():\n",
    "        if v in nums:\n",
    "            index1 = nums.index(k)\n",
    "            index2 = nums.index(v)\n",
    "            if index1 != index2:\n",
    "                return [index1, index2]\n",
    "    \n",
    "    return []\n",
    "\n",
    "# nums = [2,7,11,15]\n",
    "# target = 9\n",
    "\n",
    "# nums = [3,2,4]\n",
    "# target = 6\n",
    "\n",
    "#! BU SAGLAMADI\n",
    "nums = [3,3]\n",
    "target = 6\n",
    "\n",
    "# 3.Cozum\n",
    "def twoSum(nums: list[int], target: int) -> list[int]:\n",
    "    seen = {}\n",
    "    for i, num in enumerate(nums):\n",
    "        complement = target - num\n",
    "        if complement in seen:\n",
    "            return [seen[complement], i]\n",
    "        seen[num] = i\n",
    "\n",
    "twoSum(nums, target)"
   ]
  },
  {
   "cell_type": "code",
   "execution_count": null,
   "id": "19eb2214",
   "metadata": {},
   "outputs": [],
   "source": []
  },
  {
   "cell_type": "markdown",
   "id": "39a5f160",
   "metadata": {},
   "source": []
  },
  {
   "cell_type": "code",
   "execution_count": 13,
   "id": "4e398005",
   "metadata": {},
   "outputs": [
    {
     "data": {
      "text/plain": [
       "2"
      ]
     },
     "execution_count": 13,
     "metadata": {},
     "output_type": "execute_result"
    }
   ],
   "source": [
    "# 268. Missing Number\n",
    "# Given an array nums containing n distinct numbers in the range [0, n],\n",
    "# return the only number in the range that is missing from the array.\n",
    "\n",
    "# Cozum 1 \n",
    "def missingNumber(nums: list[int]) -> int:\n",
    "    nums.sort()\n",
    "    for i in range(len(nums) - 1):\n",
    "        if nums[i+1] - nums[i] != 1:\n",
    "            return nums[i] + 1\n",
    "    # eksik sayı ya en başta 0 ya da en sonda n\n",
    "    if nums[0] != 0:\n",
    "        return 0\n",
    "    return nums[-1] + 1\n",
    "\n",
    "\n",
    "# Cozum 2:\n",
    "def missingNumber(nums: list[int]) -> int:\n",
    "    n = len(nums)\n",
    "    summ = n * (n+1) // 2\n",
    "    return summ - sum(nums)\n",
    "\n",
    "\n",
    "# Cozum 3\n",
    "# 0'dan n’e kadar olan tüm sayıları indexlerle birlikte XOR’larız.\n",
    "# Eksik olan sayı hariç her sayı iki kez XOR’lanır (bir index’te, bir value olarak).\n",
    "# İki kez XOR’lanan her şey 0’a gider → tek kalan, eksik sayıdır.\n",
    "\n",
    "def missingNumber(nums: list[int]) -> int:\n",
    "    missing = len(nums)\n",
    "    for i, num in enumerate(nums):\n",
    "        missing ^= i ^ num\n",
    "    return missing\n",
    "\n",
    "nums = [3,0,1]\n",
    "missingNumber(nums)"
   ]
  },
  {
   "cell_type": "code",
   "execution_count": null,
   "id": "dd6b7ded",
   "metadata": {},
   "outputs": [],
   "source": []
  },
  {
   "cell_type": "code",
   "execution_count": 35,
   "id": "9d9ef4ff",
   "metadata": {},
   "outputs": [
    {
     "data": {
      "text/plain": [
       "3"
      ]
     },
     "execution_count": 35,
     "metadata": {},
     "output_type": "execute_result"
    }
   ],
   "source": [
    "# 485. Max Consecutive Ones\n",
    "# Given a binary array nums, return the maximum number of consecutive 1's in the array.\n",
    "\n",
    "# Input: nums = [1,1,0,1,1,1]\n",
    "# Output: 3\n",
    "# Explanation: The first two digits or the last three digits are consecutive 1s. The maximum number of consecutive 1s is 3.\n",
    "\n",
    "# KOMPLEX DUSUNDUM: MEGERSE SADECE 1 LERI SAYACAKMISIZ\n",
    "# def findMaxConsecutiveOnes(nums: list[int]) -> int:\n",
    "#     if len(nums) == 1:\n",
    "#         if nums[0] == 1:\n",
    "#             return 1\n",
    "#         else:\n",
    "#             return 0\n",
    "#     maxCounter = 0\n",
    "#     counter = 1\n",
    "#     for i in range(len(nums) - 1):\n",
    "#         if nums[i+1] == nums[i]:\n",
    "#             print(f'+1')\n",
    "#             counter += 1\n",
    "#         else:\n",
    "#             maxCounter = max(counter, maxCounter)\n",
    "#             print('SIFIRLA') \n",
    "#             counter = 1\n",
    "#         print(f'Tur: counter= {counter} maxCounter= {maxCounter}')\n",
    "#         print(maxCounter)\n",
    "# \n",
    "#   return max(counter, maxCounter)\n",
    "\n",
    "def findMaxConsecutiveOnes(nums: list[int]) -> int:\n",
    "    maxCounter = 0\n",
    "    counter = 0\n",
    "    for i in nums:\n",
    "        if i==0:\n",
    "            maxCounter = max(counter, maxCounter)\n",
    "            counter = 0\n",
    "        else:\n",
    "            counter += 1\n",
    "    return max(counter, maxCounter)\n",
    "\n",
    "# nums = [1,0,1,1,0,1]\n",
    "nums = [1,1,0,1,1,1]\n",
    "findMaxConsecutiveOnes(nums)"
   ]
  },
  {
   "cell_type": "code",
   "execution_count": null,
   "id": "bc47a815",
   "metadata": {},
   "outputs": [],
   "source": []
  },
  {
   "cell_type": "code",
   "execution_count": 45,
   "id": "6503cf23",
   "metadata": {},
   "outputs": [
    {
     "data": {
      "text/plain": [
       "[1, 3, 12, 0, 0]"
      ]
     },
     "execution_count": 45,
     "metadata": {},
     "output_type": "execute_result"
    }
   ],
   "source": [
    "# 283. Move Zeroes\n",
    "# Given an integer array nums, move all 0's to the end of it while maintaining the relative order of the non-zero elements.\n",
    "\n",
    "# Input: nums = [0,1,0,3,12]\n",
    "# Output: [1,3,12,0,0]\n",
    "\n",
    "def moveZeroes(nums: list[int]) -> None:\n",
    "        \"\"\"\n",
    "        Do not return anything, modify nums in-place instead.\n",
    "        \"\"\"\n",
    "        index = 0\n",
    "        for i, num in enumerate(nums):\n",
    "            if nums[i] != 0:\n",
    "                nums[index] = num\n",
    "                if index != i:\n",
    "                    nums[i] = 0\n",
    "                index += 1\n",
    "            else:\n",
    "                pass\n",
    "        return nums\n",
    "\n",
    "\n",
    "def moveZeroes(nums: list[int]) -> None:\n",
    "    k = 0\n",
    "\n",
    "    for i in range(len(nums)):\n",
    "        if nums[i] != 0:\n",
    "            nums[i],nums[k] = nums[k],nums[i]\n",
    "            k += 1\n",
    "\n",
    "    return nums\n",
    "\n",
    "\n",
    "#! İki pointer tekniği.\n",
    "def moveZeroes(nums: list[int]) -> None:\n",
    "    left = 0\n",
    "    \n",
    "    for right in range(len(nums)):\n",
    "        if nums[right] != 0:\n",
    "            nums[right], nums[left] = nums[left], nums[right]\n",
    "            left += 1\n",
    "    return nums\n",
    "\n",
    "\n",
    "nums = [0,1,0,3,12]\n",
    "# nums = [1]\n",
    "moveZeroes(nums)"
   ]
  },
  {
   "cell_type": "code",
   "execution_count": null,
   "id": "31132edd",
   "metadata": {},
   "outputs": [],
   "source": []
  }
 ],
 "metadata": {
  "kernelspec": {
   "display_name": "base",
   "language": "python",
   "name": "python3"
  },
  "language_info": {
   "codemirror_mode": {
    "name": "ipython",
    "version": 3
   },
   "file_extension": ".py",
   "mimetype": "text/x-python",
   "name": "python",
   "nbconvert_exporter": "python",
   "pygments_lexer": "ipython3",
   "version": "3.13.5"
  }
 },
 "nbformat": 4,
 "nbformat_minor": 5
}
