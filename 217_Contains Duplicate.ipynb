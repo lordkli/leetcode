{
 "cells": [
  {
   "cell_type": "code",
   "execution_count": 3,
   "id": "72acc9f9-9ffd-4cbf-9586-0e7288c6737a",
   "metadata": {},
   "outputs": [],
   "source": [
    "# 217. Contains Duplicte\n",
    "\n",
    "def containsDuplicate(nums):\n",
    "    return len(nums) != len(set(nums))"
   ]
  },
  {
   "cell_type": "code",
   "execution_count": 4,
   "id": "5e23e72b-23b2-4e1b-8b53-cb010aba542e",
   "metadata": {},
   "outputs": [
    {
     "name": "stdout",
     "output_type": "stream",
     "text": [
      "True\n"
     ]
    }
   ],
   "source": [
    "nums = [1,2,3,1]\n",
    "print(containsDuplicate(nums))"
   ]
  },
  {
   "cell_type": "code",
   "execution_count": 6,
   "id": "37267752",
   "metadata": {},
   "outputs": [
    {
     "name": "stdout",
     "output_type": "stream",
     "text": [
      "False\n"
     ]
    }
   ],
   "source": [
    "nums = [1,2,3,4]\n",
    "print(containsDuplicate(nums))"
   ]
  },
  {
   "cell_type": "code",
   "execution_count": 6,
   "id": "aa7d668f",
   "metadata": {},
   "outputs": [
    {
     "data": {
      "text/plain": [
       "4"
      ]
     },
     "execution_count": 6,
     "metadata": {},
     "output_type": "execute_result"
    }
   ],
   "source": [
    "# 136. Single Number\n",
    "# Given a non-empty array of integers nums, every element appears twice except for one. Find that single one.\n",
    "\n",
    "# Input: nums = [2,2,1]\n",
    "# Output: 1\n",
    "\n",
    "# Input: nums = [4,1,2,1,2]\n",
    "# Output: 4\n",
    "\n",
    "# def singleNumber(nums):\n",
    "#     for i in range(len(nums)):\n",
    "#         for j in range(i + 1, len(nums))\n",
    "#             if nums[i] == nums[j]:\n",
    "                \n",
    "\n",
    "def singleNumber(nums):\n",
    "    unique_dict = {x: 0 for x in set(nums)}\n",
    "    for i in nums:\n",
    "        unique_dict[i] += 1\n",
    "    \n",
    "    # unique_items = [k for k, v in unique_dict.items() if v == 1]\n",
    "    unique_key = next(k for k, v in unique_dict.items() if v == 1)\n",
    "    return unique_key\n",
    "\n",
    "nums = [4,1,2,1,2]\n",
    "singleNumber(nums)"
   ]
  },
  {
   "cell_type": "code",
   "execution_count": null,
   "id": "07c07d85",
   "metadata": {},
   "outputs": [],
   "source": []
  },
  {
   "cell_type": "code",
   "execution_count": 13,
   "id": "90bafca2",
   "metadata": {},
   "outputs": [
    {
     "name": "stdout",
     "output_type": "stream",
     "text": [
      "{1: 5, 2: 4}\n",
      "1\n",
      "1\n"
     ]
    }
   ],
   "source": [
    "# 169. Majority Element\n",
    "# Given an array nums of size n, return the majority element.\n",
    "\n",
    "# The majority element is the element that appears more than ⌊n / 2⌋ times.\n",
    "# You may assume that the majority element always exists in the array.\n",
    "# Example 1:\n",
    "# Input: nums = [3,2,3]\n",
    "# Output: 3\n",
    "\n",
    "# Example 2:\n",
    "# Input: nums = [2,2,1,1,1,2,2]\n",
    "# Output: 2\n",
    "\n",
    "# 1) dict le yapilabilir\n",
    "\n",
    "nums = [2,2,1,1,1,2,2,1,1]\n",
    "unique_dict = {x: 0 for x in set(nums)}\n",
    "\n",
    "for i in nums:\n",
    "    unique_dict[i] += 1\n",
    "\n",
    "# max_key = max(unique_dict, key=unique_dict.get)\n",
    "max_key = max(unique_dict, key= lambda k: unique_dict[k])\n",
    "\n",
    "\n",
    "print(unique_dict)\n",
    "print(max_key)\n",
    "\n",
    "\n",
    "# 2) zaten biri en az yarisi kadar fazla\n",
    "\n",
    "def boyerMoore(nums):\n",
    "    result = 0\n",
    "    count = 0\n",
    "\n",
    "    for num in nums:\n",
    "        if count == 0:\n",
    "            result = num\n",
    "        \n",
    "        count += 1 if num == result else -1\n",
    "        # else:\n",
    "        #     if result == num:\n",
    "        #         count += 1\n",
    "        #     else:\n",
    "        #         count -= 1\n",
    "    return result\n",
    "\n",
    "print(boyerMoore(nums))"
   ]
  },
  {
   "cell_type": "code",
   "execution_count": null,
   "id": "e94a87ae",
   "metadata": {},
   "outputs": [],
   "source": []
  },
  {
   "cell_type": "code",
   "execution_count": null,
   "id": "9ac5e71b",
   "metadata": {},
   "outputs": [],
   "source": []
  }
 ],
 "metadata": {
  "kernelspec": {
   "display_name": "base",
   "language": "python",
   "name": "python3"
  },
  "language_info": {
   "codemirror_mode": {
    "name": "ipython",
    "version": 3
   },
   "file_extension": ".py",
   "mimetype": "text/x-python",
   "name": "python",
   "nbconvert_exporter": "python",
   "pygments_lexer": "ipython3",
   "version": "3.13.5"
  }
 },
 "nbformat": 4,
 "nbformat_minor": 5
}
