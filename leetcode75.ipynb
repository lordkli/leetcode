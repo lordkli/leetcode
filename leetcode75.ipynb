{
 "cells": [
  {
   "cell_type": "code",
   "execution_count": 2,
   "id": "39300798",
   "metadata": {},
   "outputs": [
    {
     "name": "stdout",
     "output_type": "stream",
     "text": [
      "a\n",
      "birden fazla satirdan \n",
      "olusan bir string\n",
      "b\n",
      "i\n",
      "bir\n",
      "Bu ikinci string\n",
      "Bu ucuncu string\n",
      "16\n",
      "BU UCUNCU STRING\n",
      "bu ucuncu string\n",
      "     bosluk      \n",
      "bosluk\n",
      "merhabadünya\n",
      "merhabadünyamerhabadünyamerhabadünyamerhabadünya\n",
      "isim: alice\n",
      "True\n",
      "False\n"
     ]
    }
   ],
   "source": [
    "#  STRING\n",
    "\n",
    "harf = \"a\"\n",
    "print(harf)\n",
    "\n",
    "tek_tirnak = 'a'\n",
    "cift_tirnak = \"a\"\n",
    "\n",
    "coklu_satir = \"\"\"birden fazla satirdan \n",
    "olusan bir string\"\"\"\n",
    "print(coklu_satir)\n",
    "\n",
    "erisim = \"bu bir stringdir\"\n",
    "print(erisim[0])\n",
    "print(erisim[-2])\n",
    "print(erisim[3:6])\n",
    "\n",
    "s = \"bu ikinci string\"\n",
    "\n",
    "s1 = 'B' + s[1:]\n",
    "print(s1)\n",
    "\n",
    "# del s\n",
    "# print(s)\n",
    "\n",
    "s2 = \"ucuncu\"\n",
    "\n",
    "s3 = s1.replace(\"ikinci\", s2)\n",
    "print(s3)\n",
    "\n",
    "print(len(s3))\n",
    "\n",
    "print(s3.upper())\n",
    "print(s3.lower())\n",
    "\n",
    "bosluk = \"     bosluk      \"\n",
    "\n",
    "print(bosluk)\n",
    "print(bosluk.strip())\n",
    "\n",
    "m1 = \"merhaba\"\n",
    "m2 = \"dünya\"\n",
    "m3 = m1 + m2\n",
    "print(m3)\n",
    "\n",
    "print(m3 * 4)\n",
    "\n",
    "isim = \"alice\"\n",
    "print(f\"isim: {isim}\")\n",
    "\n",
    "kodla = \"kodla\"\n",
    "\n",
    "print(\"k\" in kodla)\n",
    "print(\"s\" in kodla)"
   ]
  },
  {
   "cell_type": "code",
   "execution_count": 22,
   "id": "fb257824",
   "metadata": {},
   "outputs": [
    {
     "name": "stdout",
     "output_type": "stream",
     "text": [
      "i\n",
      "bir\n",
      "bu bir stringtir\n",
      "bu ikinci stringtir\n",
      "          sa beyler            \n",
      "sa beyler\n",
      "          sa beyler            \n",
      "Merhaba Ali,\n",
      "True\n",
      "False\n"
     ]
    }
   ],
   "source": [
    "# String Onemli \n",
    "erisim = 'bu bir stringtir'\n",
    "print(erisim[-2])\n",
    "print(erisim[3:6]) #! 3 dahil 6 degil\n",
    "\n",
    "erisim.replace('bir', 'iki') #! kalici degistirmedi atayinca kalici oluyor\n",
    "print(erisim)\n",
    "\n",
    "s2 = erisim.replace('bir', 'ikinci')\n",
    "print(s2)\n",
    "\n",
    "bosluk = '          sa beyler            '\n",
    "bosluk.strip()\n",
    "print(bosluk)\n",
    "print(bosluk.strip())   #! kalici olmasi icin atama yapman lazim\n",
    "print(bosluk)\n",
    "\n",
    "isim = 'Ali'\n",
    "print(f'Merhaba {isim},')\n",
    "\n",
    "icinde_mi = 'bu kelime bu harfi iceriyor mu'\n",
    "print('i' in icinde_mi)\n",
    "print('t' in icinde_mi)\n",
    "\n"
   ]
  },
  {
   "cell_type": "code",
   "execution_count": null,
   "id": "b7fb43b2",
   "metadata": {},
   "outputs": [],
   "source": [
    "# LISTELER\n",
    "\n",
    "tam_sayi = [0, 1, 2]\n",
    "string_listesi = [\"kodla\", \"suleyman\"]\n",
    "sayi_string = [\"kodla\", 1, 2]\n",
    "\n",
    "veriler = (1, \"kodla\", 2)\n",
    "veriler_listesi = list(veriler)\n",
    "print(veriler_listesi)\n",
    "\n",
    "sifir_tablosu = [0] * 5\n",
    "print(sifir_tablosu)\n",
    "\n",
    "liste = []\n",
    "\n",
    "liste.append(10)\n",
    "print(liste)\n",
    "\n",
    "liste.insert(0, 5)\n",
    "print(liste)\n",
    "\n",
    "liste.extend([3, 10, 25])\n",
    "print(liste)\n",
    "\n",
    "liste[0] = 1\n",
    "print(liste)\n",
    "\n",
    "# liste.remove(1)\n",
    "# print(liste)\n",
    "\n",
    "# liste.pop(-1)\n",
    "# print(liste)\n",
    "\n",
    "# del liste[1]\n",
    "# print(liste)\n",
    "\n",
    "for item in liste:\n",
    "    print(item)\n"
   ]
  },
  {
   "cell_type": "code",
   "execution_count": null,
   "id": "3e62aef4",
   "metadata": {},
   "outputs": [
    {
     "name": "stdout",
     "output_type": "stream",
     "text": [
      "[0, 1, 2, 4]\n",
      "[0, 1, 2, 4, 10]\n",
      "[0, 1, 2, 30, 4, 10]\n",
      "[0, 1, 2, 4]\n"
     ]
    }
   ],
   "source": [
    "# Liste onemliler\n",
    "sayilar = [0, 1, 2,4]\n",
    "print(sayilar)\n",
    "sayilar.append(10)\n",
    "print(sayilar)\n",
    "sayilar.insert(3,30)\n",
    "print(sayilar)\n",
    "sayilar.remove(30)\n",
    "# sayilar.remove(40) #! olmayan bir seyi silince error\n",
    "sayilar.pop(-1) # o indekstekini siliyor\n",
    "print(sayilar)\n",
    "\n"
   ]
  },
  {
   "cell_type": "code",
   "execution_count": null,
   "id": "1c138183",
   "metadata": {},
   "outputs": [],
   "source": []
  },
  {
   "cell_type": "code",
   "execution_count": null,
   "id": "eb334683",
   "metadata": {},
   "outputs": [
    {
     "data": {
      "text/plain": [
       "'apbqrs'"
      ]
     },
     "execution_count": 37,
     "metadata": {},
     "output_type": "execute_result"
    }
   ],
   "source": []
  },
  {
   "cell_type": "code",
   "execution_count": null,
   "id": "afc693c6",
   "metadata": {},
   "outputs": [],
   "source": []
  }
 ],
 "metadata": {
  "kernelspec": {
   "display_name": "base",
   "language": "python",
   "name": "python3"
  },
  "language_info": {
   "codemirror_mode": {
    "name": "ipython",
    "version": 3
   },
   "file_extension": ".py",
   "mimetype": "text/x-python",
   "name": "python",
   "nbconvert_exporter": "python",
   "pygments_lexer": "ipython3",
   "version": "3.13.5"
  }
 },
 "nbformat": 4,
 "nbformat_minor": 5
}
