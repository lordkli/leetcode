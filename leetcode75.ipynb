{
 "cells": [
  {
   "cell_type": "code",
   "execution_count": 2,
   "id": "39300798",
   "metadata": {},
   "outputs": [
    {
     "name": "stdout",
     "output_type": "stream",
     "text": [
      "a\n",
      "birden fazla satirdan \n",
      "olusan bir string\n",
      "b\n",
      "i\n",
      "bir\n",
      "Bu ikinci string\n",
      "Bu ucuncu string\n",
      "16\n",
      "BU UCUNCU STRING\n",
      "bu ucuncu string\n",
      "     bosluk      \n",
      "bosluk\n",
      "merhabadünya\n",
      "merhabadünyamerhabadünyamerhabadünyamerhabadünya\n",
      "isim: alice\n",
      "True\n",
      "False\n"
     ]
    }
   ],
   "source": [
    "#  STRING\n",
    "\n",
    "harf = \"a\"\n",
    "print(harf)\n",
    "\n",
    "tek_tirnak = 'a'\n",
    "cift_tirnak = \"a\"\n",
    "\n",
    "coklu_satir = \"\"\"birden fazla satirdan \n",
    "olusan bir string\"\"\"\n",
    "print(coklu_satir)\n",
    "\n",
    "erisim = \"bu bir stringdir\"\n",
    "print(erisim[0])\n",
    "print(erisim[-2])\n",
    "print(erisim[3:6])\n",
    "\n",
    "s = \"bu ikinci string\"\n",
    "\n",
    "s1 = 'B' + s[1:]\n",
    "print(s1)\n",
    "\n",
    "# del s\n",
    "# print(s)\n",
    "\n",
    "s2 = \"ucuncu\"\n",
    "\n",
    "s3 = s1.replace(\"ikinci\", s2)\n",
    "print(s3)\n",
    "\n",
    "print(len(s3))\n",
    "\n",
    "print(s3.upper())\n",
    "print(s3.lower())\n",
    "\n",
    "bosluk = \"     bosluk      \"\n",
    "\n",
    "print(bosluk)\n",
    "print(bosluk.strip())\n",
    "\n",
    "m1 = \"merhaba\"\n",
    "m2 = \"dünya\"\n",
    "m3 = m1 + m2\n",
    "print(m3)\n",
    "\n",
    "print(m3 * 4)\n",
    "\n",
    "isim = \"alice\"\n",
    "print(f\"isim: {isim}\")\n",
    "\n",
    "kodla = \"kodla\"\n",
    "\n",
    "print(\"k\" in kodla)\n",
    "print(\"s\" in kodla)"
   ]
  },
  {
   "cell_type": "code",
   "execution_count": 22,
   "id": "fb257824",
   "metadata": {},
   "outputs": [
    {
     "name": "stdout",
     "output_type": "stream",
     "text": [
      "i\n",
      "bir\n",
      "bu bir stringtir\n",
      "bu ikinci stringtir\n",
      "          sa beyler            \n",
      "sa beyler\n",
      "          sa beyler            \n",
      "Merhaba Ali,\n",
      "True\n",
      "False\n"
     ]
    }
   ],
   "source": [
    "# String Onemli \n",
    "erisim = 'bu bir stringtir'\n",
    "print(erisim[-2])\n",
    "print(erisim[3:6]) #! 3 dahil 6 degil\n",
    "\n",
    "erisim.replace('bir', 'iki') #! kalici degistirmedi atayinca kalici oluyor\n",
    "print(erisim)\n",
    "\n",
    "s2 = erisim.replace('bir', 'ikinci')\n",
    "print(s2)\n",
    "\n",
    "bosluk = '          sa beyler            '\n",
    "bosluk.strip()\n",
    "print(bosluk)\n",
    "print(bosluk.strip())   #! kalici olmasi icin atama yapman lazim\n",
    "print(bosluk)\n",
    "\n",
    "isim = 'Ali'\n",
    "print(f'Merhaba {isim},')\n",
    "\n",
    "icinde_mi = 'bu kelime bu harfi iceriyor mu'\n",
    "print('i' in icinde_mi)\n",
    "print('t' in icinde_mi)\n",
    "\n"
   ]
  },
  {
   "cell_type": "code",
   "execution_count": null,
   "id": "b7fb43b2",
   "metadata": {},
   "outputs": [],
   "source": [
    "# LISTELER\n",
    "\n",
    "tam_sayi = [0, 1, 2]\n",
    "string_listesi = [\"kodla\", \"suleyman\"]\n",
    "sayi_string = [\"kodla\", 1, 2]\n",
    "\n",
    "veriler = (1, \"kodla\", 2)\n",
    "veriler_listesi = list(veriler)\n",
    "print(veriler_listesi)\n",
    "\n",
    "sifir_tablosu = [0] * 5\n",
    "print(sifir_tablosu)\n",
    "\n",
    "liste = []\n",
    "\n",
    "liste.append(10)\n",
    "print(liste)\n",
    "\n",
    "liste.insert(0, 5)\n",
    "print(liste)\n",
    "\n",
    "liste.extend([3, 10, 25])\n",
    "print(liste)\n",
    "\n",
    "liste[0] = 1\n",
    "print(liste)\n",
    "\n",
    "# liste.remove(1)\n",
    "# print(liste)\n",
    "\n",
    "# liste.pop(-1)\n",
    "# print(liste)\n",
    "\n",
    "# del liste[1]\n",
    "# print(liste)\n",
    "\n",
    "for item in liste:\n",
    "    print(item)\n"
   ]
  },
  {
   "cell_type": "code",
   "execution_count": null,
   "id": "3e62aef4",
   "metadata": {},
   "outputs": [
    {
     "name": "stdout",
     "output_type": "stream",
     "text": [
      "[0, 1, 2, 4]\n",
      "[0, 1, 2, 4, 10]\n",
      "[0, 1, 2, 30, 4, 10]\n",
      "[0, 1, 2, 4]\n"
     ]
    }
   ],
   "source": [
    "# Liste onemliler\n",
    "sayilar = [0, 1, 2,4]\n",
    "print(sayilar)\n",
    "sayilar.append(10)\n",
    "print(sayilar)\n",
    "sayilar.insert(3,30)\n",
    "print(sayilar)\n",
    "sayilar.remove(30)\n",
    "# sayilar.remove(40) #! olmayan bir seyi silince error\n",
    "sayilar.pop(-1) # o indekstekini siliyor\n",
    "print(sayilar)\n",
    "\n"
   ]
  },
  {
   "cell_type": "code",
   "execution_count": null,
   "id": "1c138183",
   "metadata": {},
   "outputs": [],
   "source": []
  },
  {
   "cell_type": "code",
   "execution_count": null,
   "id": "eb334683",
   "metadata": {},
   "outputs": [
    {
     "data": {
      "text/plain": [
       "'apbqrs'"
      ]
     },
     "execution_count": 37,
     "metadata": {},
     "output_type": "execute_result"
    }
   ],
   "source": []
  },
  {
   "cell_type": "code",
   "execution_count": 38,
   "id": "afc693c6",
   "metadata": {},
   "outputs": [
    {
     "data": {
      "text/plain": [
       "'apbqrs'"
      ]
     },
     "execution_count": 38,
     "metadata": {},
     "output_type": "execute_result"
    }
   ],
   "source": [
    "# 1768. Merge Strings Alternately\n",
    "# You are given two strings word1 and word2. Merge the strings by adding letters in alternating order, starting with word1. If a string is longer than the other, append the additional letters onto the end of the merged string.\n",
    "# Input: word1 = \"ab\", word2 = \"pqrs\"\n",
    "# Output: \"apbqrs\"\n",
    "# Explanation: Notice that as word2 is longer, \"rs\" is appended to the end.\n",
    "# word1:  a   b \n",
    "# word2:    p   q   r   s\n",
    "# merged: a p b q   r   s\n",
    "\n",
    "\n",
    "# COZUM 1:\n",
    "def mergeAlternately1(word1: str, word2: str) -> str:\n",
    "    i = 0\n",
    "    j = 0\n",
    "    out = []\n",
    "    while i < len(word1) or j < len(word2):\n",
    "        if i < len(word1):\n",
    "            out.append(word1[i])\n",
    "            i+=1\n",
    "        if j < len(word2):\n",
    "            out.append(word2[j])\n",
    "            j += 1\n",
    "    return ''.join(out)\n",
    "\n",
    "\n",
    "# COZUM 2:\n",
    "def mergeAlternately2(word1: str, word2: str) -> str:\n",
    "    res= ''\n",
    "    for i in range(max(len(word1), len(word2))):\n",
    "        if i < len(word1):\n",
    "            res += word1[i]\n",
    "        if i < len(word2):\n",
    "            res += word2[i]\n",
    "    return res\n",
    "\n",
    "word1 = \"ab\"\n",
    "word2 = \"pqrs\"\n",
    "mergeAlternately2(word1, word2)"
   ]
  },
  {
   "cell_type": "code",
   "execution_count": null,
   "id": "fa6d2963",
   "metadata": {},
   "outputs": [],
   "source": []
  },
  {
   "cell_type": "code",
   "execution_count": 41,
   "id": "e16169a4",
   "metadata": {},
   "outputs": [
    {
     "data": {
      "text/plain": [
       "'AB'"
      ]
     },
     "execution_count": 41,
     "metadata": {},
     "output_type": "execute_result"
    }
   ],
   "source": [
    "# 1071. Greatest Common Divisor of Strings (EBOB unu bulma)\n",
    "# For two strings s and t, we say \"t divides s\" if and only if s = t + t + t + ... + t + t (i.e., t is concatenated with itself one or more times).\n",
    "# Given two strings str1 and str2, return the largest string x such that x divides both str1 and str2.\n",
    "\n",
    "# Example 1:\n",
    "# Input: str1 = \"ABCABC\", str2 = \"ABC\"\n",
    "# Output: \"ABC\"\n",
    "\n",
    "# Example 2:\n",
    "# Input: str1 = \"ABABAB\", str2 = \"ABAB\"\n",
    "# Output: \"AB\"\n",
    "\n",
    "# Example 3:\n",
    "# Input: str1 = \"LEET\", str2 = \"CODE\"\n",
    "# Output: \"\"\n",
    "\n",
    "\n",
    "import math\n",
    "\n",
    "\n",
    "def gcdOfStrings(str1: str, str2: str) -> str:\n",
    "    if str1 + str2 != str2 + str1:\n",
    "        return ''\n",
    "    gcd_length = math.gcd(len(str1), len(str2))\n",
    "    return str1[:gcd_length]\n",
    "    \n",
    "str1 = \"ABCABC\"\n",
    "str2 = \"ABC\"\n",
    "\n",
    "str1 = \"ABABAB\"\n",
    "str2 = \"ABAB\"\n",
    "\n",
    "gcdOfStrings(str1, str2)"
   ]
  },
  {
   "cell_type": "code",
   "execution_count": null,
   "id": "d1a1d7c3",
   "metadata": {},
   "outputs": [],
   "source": []
  },
  {
   "cell_type": "code",
   "execution_count": 47,
   "id": "5a4c7c12",
   "metadata": {},
   "outputs": [
    {
     "data": {
      "text/plain": [
       "[True, True, True, False, True]"
      ]
     },
     "execution_count": 47,
     "metadata": {},
     "output_type": "execute_result"
    }
   ],
   "source": [
    "# 1431. Kids With the Greatest Number of Candies\n",
    "# There are n kids with candies. You are given an integer array candies, where each candies[i] represents the number of candies the ith kid has, and an integer extraCandies, denoting the number of extra candies that you have.\n",
    "\n",
    "# Return a boolean array result of length n, where result[i] is true if, after giving the ith kid all the extraCandies, they will have the greatest number of candies among all the kids, or false otherwise.\n",
    "\n",
    "# Note that multiple kids can have the greatest number of candies.\n",
    "\n",
    "# Example 1:\n",
    "# Input: candies = [2,3,5,1,3], extraCandies = 3\n",
    "# Output: [true,true,true,false,true] \n",
    "# Explanation: If you give all extraCandies to:\n",
    "# - Kid 1, they will have 2 + 3 = 5 candies, which is the greatest among the kids.\n",
    "# - Kid 2, they will have 3 + 3 = 6 candies, which is the greatest among the kids.\n",
    "# - Kid 3, they will have 5 + 3 = 8 candies, which is the greatest among the kids.\n",
    "# - Kid 4, they will have 1 + 3 = 4 candies, which is not the greatest among the kids.\n",
    "# - Kid 5, they will have 3 + 3 = 6 candies, which is the greatest among the kids.\n",
    "\n",
    "# Example 2:\n",
    "# Input: candies = [4,2,1,1,2], extraCandies = 1\n",
    "# Output: [true,false,false,false,false] \n",
    "# Explanation: There is only 1 extra candy.\n",
    "# Kid 1 will always have the greatest number of candies, even if a different kid is given the extra candy.\n",
    "\n",
    "# Example 3:\n",
    "# Input: candies = [12,1,12], extraCandies = 10\n",
    "# Output: [true,false,true]\n",
    "\n",
    "\n",
    "def kidsWithCandies(candies: list[int], extraCandies: int) -> list[bool]:\n",
    "    max_value = max(candies)\n",
    "    res = []\n",
    "    for i in candies:\n",
    "        if i + extraCandies < max_value:\n",
    "            res.append(False)\n",
    "        else:\n",
    "            res.append(True)\n",
    "    return res\n",
    "\n",
    "candies = [2,3,5,1,3]\n",
    "extraCandies = 3\n",
    "kidsWithCandies(candies, extraCandies)"
   ]
  },
  {
   "cell_type": "code",
   "execution_count": null,
   "id": "a5685a9f",
   "metadata": {},
   "outputs": [],
   "source": []
  },
  {
   "cell_type": "code",
   "execution_count": null,
   "id": "39c8a93f",
   "metadata": {},
   "outputs": [
    {
     "data": {
      "text/plain": [
       "True"
      ]
     },
     "execution_count": 73,
     "metadata": {},
     "output_type": "execute_result"
    }
   ],
   "source": [
    "# 605. Can Place Flowers\n",
    "# You have a long flowerbed in which some of the plots are planted, and some are not. However, flowers cannot be planted in adjacent plots.\n",
    "# Given an integer array flowerbed containing 0's and 1's, where 0 means empty and 1 means not empty, and an integer n, return true if n new flowers can be planted in the flowerbed without violating the no-adjacent-flowers rule and false otherwise.\n",
    "\n",
    "# Example 1:\n",
    "# Input: flowerbed = [1,0,0,0,1], n = 1\n",
    "# Output: true\n",
    "\n",
    "# Example 2:\n",
    "# Input: flowerbed = [1,0,0,0,1], n = 2\n",
    "# Output: false\n",
    "\n",
    "# Cozum 1:\n",
    "def canPlaceFlowers(flowerbed: list[int], n: int) -> bool:\n",
    "        lenght_flowered = len(flowerbed)\n",
    "        i = 0\n",
    "        # case where there is only one pot\n",
    "        if lenght_flowered == 1:\n",
    "            if flowerbed[0] == 0:  \n",
    "                return 1 >= n\n",
    "            elif flowerbed[0] == 1: \n",
    "                return 0 >= n\n",
    "\n",
    "        # case where there's two or more pots \n",
    "        for i in range(lenght_flowered): \n",
    "            if i == 0 and flowerbed[i] == 0 and flowerbed[i+1] == 0: \n",
    "                flowerbed[i] = 1\n",
    "                i += 1\n",
    "            elif i == lenght_flowered - 1 and flowerbed[lenght_flowered-1]==0 and flowerbed[lenght_flowered-2]==0: \n",
    "                flowerbed[lenght_flowered-1] = 1\n",
    "                i += 1\n",
    "            elif flowerbed[i] == 0 and flowerbed[i-1] == 0 and flowerbed[i+1] == 0: \n",
    "                flowerbed[i] = 1\n",
    "                i += 1\n",
    "        return i >= n\n",
    "\n",
    "\n",
    "# Cozum 2:\n",
    "def canPlaceFlowers(flowerbed: list[int], n: int) -> bool:\n",
    "    i = 0\n",
    "    while i < len(flowerbed):\n",
    "        if flowerbed[i] == 0 and (i == 0 or flowerbed[i-1] == 0) and (i == len(flowerbed)-1 or flowerbed[i+1] == 0):\n",
    "            flowerbed[i] = 1\n",
    "            n -= 1\n",
    "        if n <= 0:\n",
    "            return True\n",
    "        i += 1\n",
    "    return False\n",
    "\n",
    "flowerbed = [1,0,0,0,1]\n",
    "n = 1\n",
    "canPlaceFlowers(flowerbed, n)"
   ]
  },
  {
   "cell_type": "code",
   "execution_count": null,
   "id": "d28064d2",
   "metadata": {},
   "outputs": [],
   "source": []
  },
  {
   "cell_type": "code",
   "execution_count": 84,
   "id": "9b551f65",
   "metadata": {},
   "outputs": [
    {
     "data": {
      "text/plain": [
       "'leotcede'"
      ]
     },
     "execution_count": 84,
     "metadata": {},
     "output_type": "execute_result"
    }
   ],
   "source": [
    "# 345. Reverse Vowels of a String\n",
    "# Given a string s, reverse only all the vowels in the string and return it.\n",
    "# The vowels are 'a', 'e', 'i', 'o', and 'u', and they can appear in both lower and upper cases, more than once.\n",
    "\n",
    "# Example 1:\n",
    "# Input: s = \"IceCreAm\"\n",
    "# Output: \"AceCreIm\"\n",
    "# Explanation:\n",
    "# The vowels in s are ['I', 'e', 'e', 'A']. On reversing the vowels, s becomes \"AceCreIm\".\n",
    "\n",
    "# Example 2:\n",
    "# Input: s = \"leetcode\"\n",
    "# Output: \"leotcede\"\n",
    "\n",
    "def reverseVowels(s: str) -> str:\n",
    "    vowels = 'aeiouAEIOU'\n",
    "    sesliler = []\n",
    "    for i in s:\n",
    "        if i in vowels:\n",
    "            sesliler.append(i)\n",
    "    sesliler.reverse()\n",
    "    \n",
    "    sira = 0\n",
    "    s_list = list(s)\n",
    "    for i in range(len(s)):\n",
    "        if s_list[i] in vowels:\n",
    "            s_list[i] = sesliler[sira]\n",
    "            sira += 1\n",
    "    return ''.join(s_list)\n",
    "\n",
    "\n",
    "def reverseVowels(s: str) -> str:\n",
    "        vowels=[i for i in s if i in \"aeiouAEIOU\"]\n",
    "        result=[i if i not in \"aeiouAEIOU\" else vowels.pop() for i in s]\n",
    "        return \"\".join(result)\n",
    "\n",
    "s = \"leetcode\"\n",
    "reverseVowels(s)"
   ]
  },
  {
   "cell_type": "code",
   "execution_count": null,
   "id": "6cd6e21f",
   "metadata": {},
   "outputs": [],
   "source": []
  },
  {
   "cell_type": "code",
   "execution_count": 114,
   "id": "26cb04a2",
   "metadata": {},
   "outputs": [
    {
     "data": {
      "text/plain": [
       "'example good a'"
      ]
     },
     "execution_count": 114,
     "metadata": {},
     "output_type": "execute_result"
    }
   ],
   "source": [
    "# # 151. Reverse Words in a String\n",
    "# Given an input string s, reverse the order of the words.\n",
    "# A word is defined as a sequence of non-space characters. The words in s will be separated by at least one space.\n",
    "# Return a string of the words in reverse order concatenated by a single space.\n",
    "# Note that s may contain leading or trailing spaces or multiple spaces between two words. The returned string should only have a single space separating the words. Do not include any extra spaces.\n",
    "\n",
    "# Example 1:\n",
    "# Input: s = \"the sky is blue\"\n",
    "# Output: \"blue is sky the\"\n",
    "\n",
    "# Example 2:\n",
    "# Input: s = \"  hello world  \"\n",
    "# Output: \"world hello\"\n",
    "# Explanation: Your reversed string should not contain leading or trailing spaces.\n",
    "\n",
    "# Example 3:\n",
    "# Input: s = \"a good   example\"\n",
    "# Output: \"example good a\"\n",
    "# Explanation: You need to reduce multiple spaces between two words to a single space in the reversed string.\n",
    "\n",
    "# COZUM 1:\n",
    "def reverseWords(s: str) -> str:\n",
    "    kelimeler = []\n",
    "    kelime = ''\n",
    "    for i in s:\n",
    "        if i != ' ':\n",
    "            kelime += i\n",
    "        else:\n",
    "            kelimeler.append(kelime)\n",
    "            kelime = ''\n",
    "    kelimeler.append(kelime)\n",
    "    kelimeler = [k for k in kelimeler if k != '']\n",
    "    kelimeler.reverse()\n",
    "    res = ''\n",
    "    for i in kelimeler:\n",
    "        res += i\n",
    "        res += ' '\n",
    "    \n",
    "    return res[:-1]\n",
    "\n",
    "\n",
    "def reverseWords(s: str) -> str:\n",
    "    s = s.split()\n",
    "    reversed_s = s[::-1]\n",
    "    return ' '.join(reversed_s)\n",
    "\n",
    "s = \"the sky is blue\"\n",
    "s = \"  hello world  \"\n",
    "s = \"a good   example\"\n",
    "reverseWords(s)"
   ]
  },
  {
   "cell_type": "code",
   "execution_count": null,
   "id": "ab8f2c99",
   "metadata": {},
   "outputs": [],
   "source": []
  },
  {
   "cell_type": "code",
   "execution_count": null,
   "id": "31d47b8e",
   "metadata": {},
   "outputs": [],
   "source": []
  },
  {
   "cell_type": "code",
   "execution_count": 123,
   "id": "e5423e52",
   "metadata": {},
   "outputs": [
    {
     "data": {
      "text/plain": [
       "[0, 0, 9, 0, 0]"
      ]
     },
     "execution_count": 123,
     "metadata": {},
     "output_type": "execute_result"
    }
   ],
   "source": [
    "# # 238. Product of Array Except Self\n",
    "# Given an integer array nums, return an array answer such that answer[i] is equal to the product of all the elements of nums except nums[i].\n",
    "# The product of any prefix or suffix of nums is guaranteed to fit in a 32-bit integer.\n",
    "# You must write an algorithm that runs in O(n) time and without using the division operation.\n",
    "\n",
    "# Example 1:\n",
    "# Input: nums = [1,2,3,4]\n",
    "# Output: [24,12,8,6]\n",
    "\n",
    "# Example 2:\n",
    "# Input: nums = [-1,1,0,-3,3]\n",
    "# Output: [0,0,9,0,0]\n",
    "\n",
    "def productExceptSelf(nums: list[int]) -> list[int]:\n",
    "    n = len(nums)\n",
    "    res = [1] * n\n",
    "    left_product = 1\n",
    "    for i in range(n):\n",
    "        res[i] *= left_product\n",
    "        left_product *= nums[i]\n",
    "\n",
    "    right_product = 1\n",
    "    for i in range(n-1, -1, -1):\n",
    "        res[i] *= right_product\n",
    "        right_product *= nums[i]\n",
    "    return res\n",
    "\n",
    "nums = [1,2,3,4]\n",
    "nums = [-1,1,0,-3,3]\n",
    "productExceptSelf(nums)"
   ]
  },
  {
   "cell_type": "code",
   "execution_count": null,
   "id": "d612208b",
   "metadata": {},
   "outputs": [],
   "source": [
    "\n",
    "# asdasdasdsadadssd"
   ]
  }
 ],
 "metadata": {
  "kernelspec": {
   "display_name": "base",
   "language": "python",
   "name": "python3"
  },
  "language_info": {
   "codemirror_mode": {
    "name": "ipython",
    "version": 3
   },
   "file_extension": ".py",
   "mimetype": "text/x-python",
   "name": "python",
   "nbconvert_exporter": "python",
   "pygments_lexer": "ipython3",
   "version": "3.13.5"
  }
 },
 "nbformat": 4,
 "nbformat_minor": 5
}
